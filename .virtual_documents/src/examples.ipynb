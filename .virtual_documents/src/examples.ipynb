


from text_parser import extract_questions, clean_question
from vector_ops import create_word_vector, find_similar_questions
from question_store import QuestionStore
from question_rewriter import rewrite_question





sample_text = """
This is a sample document. What is the meaning of life?
How do we process text effectively? The system should handle
various types of questions. Would you please explain the process?
"""

questions = extract_questions(sample_text)
print("Extracted questions:")
for q in questions:
    print(f"- {q}")





messy_question = "  What   is  the    meaning of  life?   "
cleaned = clean_question(messy_question)
print(f"Original: '{messy_question}'")
print(f"Cleaned:  '{cleaned}'")





# Create vectors for similar questions
q1 = "What is the meaning of life?"
q2 = "Could you tell me the meaning of life?"
q3 = "How do I bake a cake?"

# Create vocabulary and vectors
vector1, vocab = create_word_vector(q1)
vector2, _ = create_word_vector(q2, vocab)
vector3, _ = create_word_vector(q3, vocab)

question_vectors = {
    'vectors': [vector1, vector2, vector3],
    'vocabulary': vocab
}

# Find similar questions
similar = find_similar_questions(q1, question_vectors)
print("Similar questions to '", q1, "':")
for idx, similarity in similar:
    print(f"Similarity score {similarity:.2f} with question {idx + 1}")





# Initialize store
store = QuestionStore()

# Add questions with categories
store.add_question("What is Python?", category="programming")
store.add_question("How do I define a function?", category="programming")
store.add_question("What is the capital of France?", category="geography")

# Get questions by category
programming_questions = store.get_questions(category="programming")
print("Programming questions:")
for q in programming_questions:
    print(f"- {q['text']}")





# Example questions in different styles
casual_question = "Hey, what's the best way to learn Python?"
formal_question = "Would you please explain the optimal approach to learning Python?"

print("Original (casual):", casual_question)
print("Formal version:", rewrite_question(casual_question, 'formal'))
print("\nOriginal (formal):", formal_question)
print("Casual version:", rewrite_question(formal_question, 'casual'))
