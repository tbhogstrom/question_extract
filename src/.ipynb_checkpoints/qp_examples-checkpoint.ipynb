{
 "cells": [
  {
   "cell_type": "markdown",
   "metadata": {},
   "source": [
    "# Question Processing System Demo\n",
    "\n",
    "This notebook demonstrates our enhanced question processing system that uses:\n",
    "- In-memory Milvus for vector similarity search\n",
    "- Ollama for LLM-based question rewriting\n",
    "- spaCy for natural language processing\n",
    "- Sentence Transformers for text embeddings"
   ]
  },
  {
   "cell_type": "code",
   "execution_count": null,
   "metadata": {},
   "outputs": [],
   "source": [
    "# Import our question processor\n",
    "from question_processor import InMemoryQuestionProcessor\n",
    "\n",
    "# Create a processor instance\n",
    "processor = InMemoryQuestionProcessor()\n",
    "print(\"Processor initialized successfully!\")"
   ]
  },
  {
   "cell_type": "markdown",
   "metadata": {},
   "source": [
    "## 1. Question Extraction\n",
    "\n",
    "Let's start by extracting questions from a sample text."
   ]
  },
  {
   "cell_type": "code",
   "execution_count": null,
   "metadata": {},
   "outputs": [],
   "source": [
    "sample_text = \"\"\"\n",
    "Welcome to our AI and Machine Learning FAQ!\n",
    "\n",
    "What is artificial intelligence? AI is a broad field of computer science.\n",
    "How does machine learning work? It's based on patterns in data.\n",
    "Can you explain neural networks in simple terms? Think of them as layered\n",
    "information processors. Would you like to know more about deep learning?\n",
    "\n",
    "The field is rapidly evolving. When will AI surpass human intelligence?\n",
    "This remains a topic of debate.\n",
    "\"\"\"\n",
    "\n",
    "questions = processor.extract_questions(sample_text)\n",
    "print(\"Extracted questions:\")\n",
    "for i, q in enumerate(questions, 1):\n",
    "    print(f\"{i}. {q}\")"
   ]
  },
  {
   "cell_type": "markdown",
   "metadata": {},
   "source": [
    "## 2. Adding Questions to the Store\n",
    "\n",
    "Now let's add some questions to our vector store with categories."
   ]
  },
  {
   "cell_type": "code",
   "execution_count": null,
   "metadata": {},
   "outputs": [],
   "source": [
    "# Add some AI-related questions\n",
    "ai_questions = [\n",
    "    \"What is the role of backpropagation in neural networks?\",\n",
    "    \"How do transformers process sequential data?\",\n",
    "    \"What are the main types of machine learning?\",\n",
    "    \"Can you explain how deep learning differs from traditional ML?\"\n",
    "]\n",
    "\n",
    "for question in ai_questions:\n",
    "    question_id = processor.add_question(question, category=\"ai\")\n",
    "    print(f\"Added question (ID: {question_id}): {question}\")"
   ]
  },
  {
   "cell_type": "markdown",
   "metadata": {},
   "source": [
    "## 3. Finding Similar Questions\n",
    "\n",
    "Let's test the similarity search functionality."
   ]
  },
  {
   "cell_type": "code",
   "execution_count": null,
   "metadata": {},
   "outputs": [],
   "source": [
    "test_question = \"How does backpropagation work in neural nets?\"\n",
    "similar = processor.find_similar_questions(test_question, threshold=0.7)\n",
    "\n",
    "print(f\"Finding questions similar to: '{test_question}'\\n\")\n",
    "for match in similar:\n",
    "    print(f\"Score: {match['score']:.2f} - {match['question']}\")"
   ]
  },
  {
   "cell_type": "markdown",
   "metadata": {},
   "source": [
    "## 4. Question Style Rewriting\n",
    "\n",
    "Let's see how our system can rewrite questions in different styles using Ollama."
   ]
  },
  {
   "cell_type": "code",
   "execution_count": null,
   "metadata": {},
   "outputs": [],
   "source": [
    "questions_to_rewrite = [\n",
    "    \"Hey, can you tell me what machine learning is?\",\n",
    "    \"Would you be so kind as to explain the concept of neural networks?\"\n",
    "]\n",
    "\n",
    "for question in questions_to_rewrite:\n",
    "    print(f\"\\nOriginal: {question}\")\n",
    "    print(f\"Formal: {processor.rewrite_question(question, 'formal')}\")\n",
    "    print(f\"Casual: {processor.rewrite_question(question, 'casual')}\")"
   ]
  },
  {
   "cell_type": "markdown",
   "metadata": {},
   "source": [
    "## 5. Complete Document Processing\n",
    "\n",
    "Finally, let's process a complete document that combines all these features."
   ]
  },
  {
   "cell_type": "code",
   "execution_count": null,
   "metadata": {},
   "outputs": [],
   "source": [
    "technical_doc = \"\"\"\n",
    "Deep Learning and Neural Networks: A Primer\n",
    "\n",
    "What are neural networks? They are computational models inspired by biological\n",
    "neural networks. How do they learn from data? Through a process called\n",
    "backpropagation and gradient descent.\n",
    "\n",
    "Would you please explain the different types of neural networks? There are\n",
    "several types including CNNs, RNNs, and Transformers. Hey, can anyone tell\n",
    "me the difference between supervised and unsupervised learning?\n",
    "\"\"\"\n",
    "\n",
    "results = processor.process_document(technical_doc)\n",
    "\n",
    "print(\"Processed Document Results:\\n\")\n",
    "for i, result in enumerate(results['processed_questions'], 1):\n",
    "    print(f\"Question {i}:\")\n",
    "    print(f\"Original: {result['original']}\")\n",
    "    \n",
    "    if result['similar']:\n",
    "        print(\"Similar questions found:\")\n",
    "        for match in result['similar']:\n",
    "            print(f\"- {match['score']:.2f}: {match['question']}\")\n",
    "    \n",
    "    print(\"Variations:\")\n",
    "    print(f\"- Formal: {result['variations']['formal']}\")\n",
    "    print(f\"- Casual: {result['variations']['casual']}\")\n",
    "    print()"
   ]
  },
  {
   "cell_type": "markdown",
   "metadata": {},
   "source": [
    "## 6. Cleanup\n",
    "\n",
    "Let's properly clean up our resources."
   ]
  },
  {
   "cell_type": "code",
   "execution_count": null,
   "metadata": {},
   "outputs": [],
   "source": [
    "# The processor will automatically clean up in its destructor,\n",
    "# but we can do it explicitly\n",
    "del processor\n",
    "print(\"Resources cleaned up successfully!\")"
   ]
  }
 ],
 "metadata": {
  "kernelspec": {
   "display_name": "Python 3",
   "language": "python",
   "name": "python3"
  },
  "language_info": {
   "codemirror_mode": {
    "name": "ipython",
    "version": 3
   },
   "file_extension": ".py",
   "mimetype": "text/x-python",
   "name": "python",
   "nbconvert_exporter": "python",
   "pygments_lexer": "ipython3",
   "version": "3.8.0"
  }
 },
 "nbformat": 4,
 "nbformat_minor": 4
}