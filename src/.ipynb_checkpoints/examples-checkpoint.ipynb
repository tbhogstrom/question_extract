{
 "cells": [
  {
   "cell_type": "markdown",
   "metadata": {},
   "source": [
    "# Question Processing System Examples\n",
    "\n",
    "This notebook demonstrates the usage of our text processing and question analysis tools."
   ]
  },
  {
   "cell_type": "code",
   "execution_count": null,
   "metadata": {},
   "source": [
    "from text_parser import extract_questions, clean_question\n",
    "from vector_ops import create_word_vector, find_similar_questions\n",
    "from question_store import QuestionStore\n",
    "from question_rewriter import rewrite_question"
   ]
  },
  {
   "cell_type": "markdown",
   "metadata": {},
   "source": [
    "## 1. Extracting Questions from Text"
   ]
  },
  {
   "cell_type": "code",
   "execution_count": null,
   "metadata": {},
   "source": [
    "sample_text = \"\"\"\n",
    "This is a sample document. What is the meaning of life?\n",
    "How do we process text effectively? The system should handle\n",
    "various types of questions. Would you please explain the process?\n",
    "\"\"\"\n",
    "\n",
    "questions = extract_questions(sample_text)\n",
    "print(\"Extracted questions:\")\n",
    "for q in questions:\n",
    "    print(f\"- {q}\")"
   ]
  },
  {
   "cell_type": "markdown",
   "metadata": {},
   "source": [
    "## 2. Question Cleaning"
   ]
  },
  {
   "cell_type": "code",
   "execution_count": null,
   "metadata": {},
   "source": [
    "messy_question = \"  What   is  the    meaning of  life?   \"\n",
    "cleaned = clean_question(messy_question)\n",
    "print(f\"Original: '{messy_question}'\")\n",
    "print(f\"Cleaned:  '{cleaned}'\")"
   ]
  },
  {
   "cell_type": "markdown",
   "metadata": {},
   "source": [
    "## 3. Vector Operations and Similarity"
   ]
  },
  {
   "cell_type": "code",
   "execution_count": null,
   "metadata": {},
   "source": [
    "# Create vectors for similar questions\n",
    "q1 = \"What is the meaning of life?\"\n",
    "q2 = \"Could you tell me the meaning of life?\"\n",
    "q3 = \"How do I bake a cake?\"\n",
    "\n",
    "# Create vocabulary and vectors\n",
    "vector1, vocab = create_word_vector(q1)\n",
    "vector2, _ = create_word_vector(q2, vocab)\n",
    "vector3, _ = create_word_vector(q3, vocab)\n",
    "\n",
    "question_vectors = {\n",
    "    'vectors': [vector1, vector2, vector3],\n",
    "    'vocabulary': vocab\n",
    "}\n",
    "\n",
    "# Find similar questions\n",
    "similar = find_similar_questions(q1, question_vectors)\n",
    "print(\"Similar questions to '\", q1, \"':\")\n",
    "for idx, similarity in similar:\n",
    "    print(f\"Similarity score {similarity:.2f} with question {idx + 1}\")"
   ]
  },
  {
   "cell_type": "markdown",
   "metadata": {},
   "source": [
    "## 4. Question Storage"
   ]
  },
  {
   "cell_type": "code",
   "execution_count": null,
   "metadata": {},
   "source": [
    "# Initialize store\n",
    "store = QuestionStore()\n",
    "\n",
    "# Add questions with categories\n",
    "store.add_question(\"What is Python?\", category=\"programming\")\n",
    "store.add_question(\"How do I define a function?\", category=\"programming\")\n",
    "store.add_question(\"What is the capital of France?\", category=\"geography\")\n",
    "\n",
    "# Get questions by category\n",
    "programming_questions = store.get_questions(category=\"programming\")\n",
    "print(\"Programming questions:\")\n",
    "for q in programming_questions:\n",
    "    print(f\"- {q['text']}\")"
   ]
  },
  {
   "cell_type": "markdown",
   "metadata": {},
   "source": [
    "## 5. Question Style Analysis and Rewriting"
   ]
  },
  {
   "cell_type": "code",
   "execution_count": null,
   "metadata": {},
   "source": [
    "# Example questions in different styles\n",
    "casual_question = \"Hey, what's the best way to learn Python?\"\n",
    "formal_question = \"Would you please explain the optimal approach to learning Python?\"\n",
    "\n",
    "print(\"Original (casual):\", casual_question)\n",
    "print(\"Formal version:\", rewrite_question(casual_question, 'formal'))\n",
    "print(\"\\nOriginal (formal):\", formal_question)\n",
    "print(\"Casual version:\", rewrite_question(formal_question, 'casual'))"
   ]
  }
 ],
 "metadata": {
  "kernelspec": {
   "display_name": "Python 3",
   "language": "python",
   "name": "python3"
  },
  "language_info": {
   "codemirror_mode": {
    "name": "ipython",
    "version": 3
   },
   "file_extension": ".py",
   "mimetype": "text/x-python",
   "name": "python",
   "nbconvert_exporter": "python",
   "pygments_lexer": "ipython3",
   "version": "3.8.0"
  }
 },
 "nbformat": 4,
 "nbformat_minor": 4
}