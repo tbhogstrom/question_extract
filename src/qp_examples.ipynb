{
 "cells": [
  {
   "cell_type": "markdown",
   "metadata": {},
   "source": [
    "# Question Processing System Demo\n",
    "\n",
    "This notebook demonstrates our enhanced question processing system that uses:\n",
    "- In-memory Milvus for vector similarity search\n",
    "- Ollama for LLM-based question rewriting\n",
    "- spaCy for natural language processing\n",
    "- Sentence Transformers for text embeddings"
   ]
  },
  {
   "cell_type": "code",
   "execution_count": 1,
   "metadata": {},
   "outputs": [
    {
     "name": "stderr",
     "output_type": "stream",
     "text": [
      "/Users/falcon/anaconda3/envs/question_extract_310/lib/python3.10/site-packages/tqdm/auto.py:21: TqdmWarning: IProgress not found. Please update jupyter and ipywidgets. See https://ipywidgets.readthedocs.io/en/stable/user_install.html\n",
      "  from .autonotebook import tqdm as notebook_tqdm\n",
      "/Users/falcon/seo_python/question_extract/src/question_processor.py:36: LangChainDeprecationWarning: The class `Ollama` was deprecated in LangChain 0.3.1 and will be removed in 1.0.0. An updated version of the class exists in the :class:`~langchain-ollama package and should be used instead. To use it run `pip install -U :class:`~langchain-ollama` and import as `from :class:`~langchain_ollama import OllamaLLM``.\n",
      "  self.llm = Ollama(model=ollama_model, base_url=ollama_host)\n"
     ]
    },
    {
     "name": "stdout",
     "output_type": "stream",
     "text": [
      "Processor initialized successfully!\n"
     ]
    }
   ],
   "source": [
    "# Import our question processor\n",
    "from question_processor import InMemoryQuestionProcessor\n",
    "\n",
    "# Create a processor instance\n",
    "processor = InMemoryQuestionProcessor()\n",
    "print(\"Processor initialized successfully!\")"
   ]
  },
  {
   "cell_type": "markdown",
   "metadata": {},
   "source": [
    "## 1. Question Extraction\n",
    "\n",
    "Let's start by extracting questions from a sample text."
   ]
  },
  {
   "cell_type": "code",
   "execution_count": 2,
   "metadata": {},
   "outputs": [
    {
     "name": "stdout",
     "output_type": "stream",
     "text": [
      "Extracted questions:\n",
      "1. What is artificial intelligence?\n",
      "2. How does machine learning work?\n",
      "3. Can you explain neural networks in simple terms?\n",
      "4. Would you like to know more about deep learning?\n",
      "5. When will AI surpass human intelligence?\n"
     ]
    }
   ],
   "source": [
    "sample_text = \"\"\"\n",
    "Welcome to our AI and Machine Learning FAQ!\n",
    "\n",
    "What is artificial intelligence? AI is a broad field of computer science.\n",
    "How does machine learning work? It's based on patterns in data.\n",
    "Can you explain neural networks in simple terms? Think of them as layered\n",
    "information processors. Would you like to know more about deep learning?\n",
    "\n",
    "The field is rapidly evolving. When will AI surpass human intelligence?\n",
    "This remains a topic of debate.\n",
    "\"\"\"\n",
    "\n",
    "questions = processor.extract_questions(sample_text)\n",
    "print(\"Extracted questions:\")\n",
    "for i, q in enumerate(questions, 1):\n",
    "    print(f\"{i}. {q}\")"
   ]
  },
  {
   "cell_type": "markdown",
   "metadata": {},
   "source": [
    "## 2. Adding Questions to the Store\n",
    "\n",
    "Now let's add some questions to our vector store with categories."
   ]
  },
  {
   "cell_type": "code",
   "execution_count": 3,
   "metadata": {},
   "outputs": [
    {
     "name": "stdout",
     "output_type": "stream",
     "text": [
      "Added question (ID: 3): What is the role of backpropagation in neural networks?\n",
      "Added question (ID: 4): How do transformers process sequential data?\n",
      "Added question (ID: 5): What are the main types of machine learning?\n",
      "Added question (ID: 6): Can you explain how deep learning differs from traditional ML?\n"
     ]
    }
   ],
   "source": [
    "# Add some AI-related questions\n",
    "ai_questions = [\n",
    "    \"What is the role of backpropagation in neural networks?\",\n",
    "    \"How do transformers process sequential data?\",\n",
    "    \"What are the main types of machine learning?\",\n",
    "    \"Can you explain how deep learning differs from traditional ML?\"\n",
    "]\n",
    "\n",
    "for question in ai_questions:\n",
    "    question_id = processor.add_question(question, category=\"ai\")\n",
    "    print(f\"Added question (ID: {question_id}): {question}\")"
   ]
  },
  {
   "cell_type": "markdown",
   "metadata": {},
   "source": [
    "## 3. Finding Similar Questions\n",
    "\n",
    "Let's test the similarity search functionality."
   ]
  },
  {
   "cell_type": "code",
   "execution_count": 4,
   "metadata": {},
   "outputs": [
    {
     "name": "stdout",
     "output_type": "stream",
     "text": [
      "Finding questions similar to: 'How does backpropagation work in neural nets?'\n",
      "\n",
      "Score: 0.90 - What is the role of backpropagation in neural networks?\n"
     ]
    }
   ],
   "source": [
    "test_question = \"How does backpropagation work in neural nets?\"\n",
    "similar = processor.find_similar_questions(test_question, threshold=0.7)\n",
    "\n",
    "print(f\"Finding questions similar to: '{test_question}'\\n\")\n",
    "for match in similar:\n",
    "    print(f\"Score: {match['score']:.2f} - {match['question']}\")"
   ]
  },
  {
   "cell_type": "markdown",
   "metadata": {},
   "source": [
    "## 4. Question Style Rewriting\n",
    "\n",
    "Let's see how our system can rewrite questions in different styles using Ollama."
   ]
  },
  {
   "cell_type": "code",
   "execution_count": 5,
   "metadata": {},
   "outputs": [
    {
     "name": "stdout",
     "output_type": "stream",
     "text": [
      "\n",
      "Original: Hey, can you tell me what machine learning is?\n"
     ]
    },
    {
     "name": "stderr",
     "output_type": "stream",
     "text": [
      "/Users/falcon/seo_python/question_extract/src/question_processor.py:115: LangChainDeprecationWarning: The method `BaseLLM.predict` was deprecated in langchain-core 0.1.7 and will be removed in 1.0. Use :meth:`~invoke` instead.\n",
      "  return self.llm.predict(prompt).strip()\n"
     ]
    },
    {
     "name": "stdout",
     "output_type": "stream",
     "text": [
      "Formal: Certainly! Here is a rewritten version of the question in a more formal style:\n",
      "\n",
      "\"Could you provide an explanation regarding the concept of machine learning? Specifically, could you elaborate on the nature and applications of this field, as well as any relevant theoretical foundations or methodological approaches?\"\n",
      "Casual: Yo, can you spill the deets on this machine learning thingy? Like, what is it even do? 🤔\n",
      "\n",
      "Original: Would you be so kind as to explain the concept of neural networks?\n",
      "Formal: Sure, I would be delighted to elucidate the notion of neural networks for you. Neural networks are a type of machine learning model that are composed of interconnected nodes or \"neurons,\" which process and transmit information in a manner reminiscent of the human brain. These networks are capable of learnings complex patterns and relationships within data, and have been successfully applied to a diverse array of tasks, including image recognition, natural language processing, and predictive modeling. If you have any further questions or would like additional clarification on this topic, please do not hesitate to inquire.\n",
      "Casual: Hey there! So, you wanna know about neural networks? 🤖 Like, the basics and all that jazz? 🎵 I gotcha!\n",
      "\n",
      "Neural networks are like, a super cool way for computers to learn stuff. They're basically just a bunch of interconnected nodes or \"neurons\" that process information and make predictions or decisions based on that info. It's like how our brains work, but instead of being made of squishy gray matter, it's made of code and algorithms 💻\n",
      "\n",
      "The way it works is, you give the network some input (like a picture or some text), and it uses those interconnected neurons to analyze it and figure out what's going on. Then, it makes a prediction or decision based on what it learned from that input. It's like how we learn new things - our brains take in info, process it, and then use that knowledge to make decisions or predictions 🧠\n",
      "\n",
      "There are different types of neural networks, but the basic idea is the same: they're just really good at learning from examples and making predictions based on that learning. It's like how we learn new skills - we practice, get feedback, and keep improving until we get it right 💪\n",
      "\n",
      "So, that's neural networks in a nutshell! Pretty cool, huh? 🤖\n"
     ]
    }
   ],
   "source": [
    "questions_to_rewrite = [\n",
    "    \"Hey, can you tell me what machine learning is?\",\n",
    "    \"Would you be so kind as to explain the concept of neural networks?\"\n",
    "]\n",
    "\n",
    "for question in questions_to_rewrite:\n",
    "    print(f\"\\nOriginal: {question}\")\n",
    "    print(f\"Formal: {processor.rewrite_question(question, 'formal')}\")\n",
    "    print(f\"Casual: {processor.rewrite_question(question, 'casual')}\")"
   ]
  },
  {
   "cell_type": "markdown",
   "metadata": {},
   "source": [
    "## 5. Complete Document Processing\n",
    "\n",
    "Finally, let's process a complete document that combines all these features."
   ]
  },
  {
   "cell_type": "code",
   "execution_count": 6,
   "metadata": {},
   "outputs": [
    {
     "name": "stdout",
     "output_type": "stream",
     "text": [
      "Processed Document Results:\n",
      "\n",
      "Question 1:\n",
      "Original: Deep Learning and Neural Networks: A Primer\n",
      "\n",
      "What are neural networks?\n",
      "Variations:\n",
      "- Formal: Neural Networks: An Overview\n",
      "\n",
      "What are neural networks, precisely? In essence, they are computational models inspired by the structure and function of the human brain. These models are composed of interconnected nodes or neurons that process information through a system of weights and biases. The connections between neurons enable the network to learn from data and adapt its internal parameters to perform various tasks, such as classification, regression, and feature extraction.\n",
      "\n",
      "In simple terms, neural networks are made up of layers of artificial neurons that work together to analyze and solve complex problems. Each layer processes a different aspect of the input data, allowing the network to extract valuable information and make accurate predictions or decisions. By adjusting the weights and biases of these connections, the network can learn from experience and improve its performance over time.\n",
      "\n",
      "In summary, neural networks are computational models that mimic the structure and function of the human brain, enabling them to process and analyze complex data in a manner similar to human intelligence.\n",
      "- Casual: Hey there, wannabe AI mastermind! 🤖 So, you wanna know what neural networks are all about? 🤔 Well, buckle up and get ready for a wild ride! 🚀\n",
      "\n",
      "In simple terms, neural networks are like super-powered computers that can learn from lots of data. 💻 They're made up of layers and layers of interconnected nodes (think of them as tiny little brains) that work together to make predictions or classify things. 🤔 It's like a giant, AI-powered brain that can learn and adapt based on the input it gets! 🧠\n",
      "\n",
      "But wait, there's more! These neural networks can be trained on all sorts of data, from images to words to sounds. 📷🗣️ And once they're trained, they can be used for all sorts of tasks like image recognition, language translation, and even creating music! 🎵\n",
      "\n",
      "So, what are you waiting for? Get ready to unlock the secrets of neural networks and become an AI mastermind yourself! 🔑💡\n",
      "\n",
      "Question 2:\n",
      "Original: How do they learn from data?\n",
      "Variations:\n",
      "- Formal: Indeed, it is intriguing to ponder how individuals or entities learn from data. Could you provide me with more context or information regarding this inquiry, so I can offer a more comprehensive answer?\n",
      "- Casual: Hey, let's talk about how they learn from data! It's pretty cool how they can take all this information and use it to improve their game. Like, they must have some serious algorithms going on behind the scenes to make sense of it all. I bet it's like a big ol' puzzle they're trying to solve. How do you think they do it?\n",
      "\n",
      "Question 3:\n",
      "Original: Would you please explain the different types of neural networks?\n",
      "Variations:\n",
      "- Formal: Certainly! Here is the rewritten question in a formal style:\n",
      "\n",
      "Could you elucidate the various types of neural networks, please?\n",
      "- Casual: Yo, can you explain the different types of neural networks? Like, what are they and how do they work? 🤔\n",
      "\n",
      "I mean, there's like, feedforward neural networks, recurrent neural networks, and convolutional neural networks. Each one has its own thing going on, you know? 💡\n",
      "\n",
      "So, like, feedforward networks are the basic kind. They process information in a straight line, from input to output. No loops or anything. It's like a linear chain of command, you know? 📊\n",
      "\n",
      "Recurrent neural networks are different. They have loops and stuff, so they can remember things over time. Like, they can learn from past experiences and use that knowledge to make decisions in the future. It's like they have a memory, man! 💭\n",
      "\n",
      "Convolutional neural networks are even more special. They're good at recognizing patterns in images and stuff. They can like, see pictures and identify things in them. It's like they have their own visual language, you know? 🎨\n",
      "\n",
      "So yeah, those are the main types of neural networks. Each one is a different animal, but they all work together to make AI happen. 🤖\n",
      "\n",
      "Question 4:\n",
      "Original: Hey, can anyone tell\n",
      "me the difference between supervised and unsupervised learning?\n",
      "Variations:\n",
      "- Formal: Certainly! Here is the rewritten question in a formal style:\n",
      "\n",
      "Could any individual kindly elaborate upon the distinctions between supervised and unsupervised learning?\n",
      "- Casual: Yo, can any of you brainiacs explain the diff between supervised and unsupervised learnin'? Like, I know the basics, but I wanna get deep on this stuff. 🤔\n",
      "\n"
     ]
    }
   ],
   "source": [
    "technical_doc = \"\"\"\n",
    "Deep Learning and Neural Networks: A Primer\n",
    "\n",
    "What are neural networks? They are computational models inspired by biological\n",
    "neural networks. How do they learn from data? Through a process called\n",
    "backpropagation and gradient descent.\n",
    "\n",
    "Would you please explain the different types of neural networks? There are\n",
    "several types including CNNs, RNNs, and Transformers. Hey, can anyone tell\n",
    "me the difference between supervised and unsupervised learning?\n",
    "\"\"\"\n",
    "\n",
    "results = processor.process_document(technical_doc)\n",
    "\n",
    "print(\"Processed Document Results:\\n\")\n",
    "for i, result in enumerate(results['processed_questions'], 1):\n",
    "    print(f\"Question {i}:\")\n",
    "    print(f\"Original: {result['original']}\")\n",
    "    \n",
    "    if result['similar']:\n",
    "        print(\"Similar questions found:\")\n",
    "        for match in result['similar']:\n",
    "            print(f\"- {match['score']:.2f}: {match['question']}\")\n",
    "    \n",
    "    print(\"Variations:\")\n",
    "    print(f\"- Formal: {result['variations']['formal']}\")\n",
    "    print(f\"- Casual: {result['variations']['casual']}\")\n",
    "    print()"
   ]
  },
  {
   "cell_type": "markdown",
   "metadata": {},
   "source": [
    "## 6. Cleanup\n",
    "\n",
    "Let's properly clean up our resources."
   ]
  },
  {
   "cell_type": "code",
   "execution_count": 7,
   "metadata": {},
   "outputs": [
    {
     "name": "stdout",
     "output_type": "stream",
     "text": [
      "Resources cleaned up successfully!\n"
     ]
    }
   ],
   "source": [
    "# The processor will automatically clean up in its destructor,\n",
    "# but we can do it explicitly\n",
    "del processor\n",
    "print(\"Resources cleaned up successfully!\")"
   ]
  },
  {
   "cell_type": "code",
   "execution_count": null,
   "metadata": {},
   "outputs": [],
   "source": []
  }
 ],
 "metadata": {
  "kernelspec": {
   "display_name": "Python 3 (ipykernel)",
   "language": "python",
   "name": "python3"
  },
  "language_info": {
   "codemirror_mode": {
    "name": "ipython",
    "version": 3
   },
   "file_extension": ".py",
   "mimetype": "text/x-python",
   "name": "python",
   "nbconvert_exporter": "python",
   "pygments_lexer": "ipython3",
   "version": "3.10.13"
  }
 },
 "nbformat": 4,
 "nbformat_minor": 4
}
